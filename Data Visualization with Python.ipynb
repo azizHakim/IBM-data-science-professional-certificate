{
 "cells": [
  {
   "cell_type": "code",
   "execution_count": null,
   "metadata": {
    "colab": {},
    "colab_type": "code",
    "id": "_AGB30SOhAnk"
   },
   "outputs": [],
   "source": [
    "import numpy as np  # useful for many scientific computing in Python\n",
    "import pandas as pd # primary data structure library"
   ]
  },
  {
   "cell_type": "code",
   "execution_count": null,
   "metadata": {
    "colab": {
     "base_uri": "https://localhost:8080/",
     "height": 226
    },
    "colab_type": "code",
    "id": "x46P9Iv4hAnr",
    "outputId": "81c05951-c49a-49b8-ce35-d202f29769ac"
   },
   "outputs": [],
   "source": [
    "df_ds = pd.read_csv('https://cocl.us/datascience_survey_data',index_col=0)\n",
    "df_ds"
   ]
  },
  {
   "cell_type": "code",
   "execution_count": null,
   "metadata": {
    "colab": {},
    "colab_type": "code",
    "id": "HR-eX2nRhAn3",
    "scrolled": true
   },
   "outputs": [],
   "source": [
    "df_ds.sort_values(['Very interested'], ascending=False, axis=0, inplace=True)"
   ]
  },
  {
   "cell_type": "code",
   "execution_count": null,
   "metadata": {
    "colab": {
     "base_uri": "https://localhost:8080/",
     "height": 775
    },
    "colab_type": "code",
    "id": "A0RZMXeVhAn9",
    "outputId": "70cbbe8a-d117-45e4-b839-7f85f57c1ce4"
   },
   "outputs": [],
   "source": [
    "ax = df_ds[['Very interested','Somewhat interested','Not interested']].plot(kind='bar',\n",
    "              figsize=(20,8), color=['#5cb85c','#5bc0de', '#d9534f'], fontsize=14);\n",
    "ax.set_alpha(0.8)\n",
    "for i in ax.patches:\n",
    "    # get_x pulls left or right; get_height pushes up or down\n",
    "    ax.text(i.get_x(), i.get_height()+22, \\\n",
    "            str(round((i.get_height()/2233)*100, 2))+'%', fontsize=11, color='dimgrey',\n",
    "                rotation=0)\n",
    "\n",
    "ax.set_title(\"percentage of respondents' interest in data science Areas\",\n",
    "fontsize=16)\n",
    "ax.set_xticklabels(['Big Data (Spark / Hadoop)','Data Analysis / Statistics','Data Journalism','Data Visualization',\n",
    "                    'Deep Learning','Machine Learning'], rotation=90, fontsize=14)"
   ]
  },
  {
   "cell_type": "code",
   "execution_count": null,
   "metadata": {
    "colab": {},
    "colab_type": "code",
    "id": "4S2GiOeRhAoa"
   },
   "outputs": [],
   "source": [
    "df_sf = pd.read_csv('https://cocl.us/sanfran_crime_dataset')\n",
    "df_sf"
   ]
  },
  {
   "cell_type": "code",
   "execution_count": null,
   "metadata": {
    "colab": {},
    "colab_type": "code",
    "id": "omuSa7YUhAof"
   },
   "outputs": [],
   "source": [
    "b=[]\n",
    "a=df_sf.PdDistrict.unique()\n",
    "for i in a:\n",
    "    b.append(len(df_sf[df_sf['PdDistrict'] == i]))"
   ]
  },
  {
   "cell_type": "code",
   "execution_count": null,
   "metadata": {
    "colab": {
     "base_uri": "https://localhost:8080/",
     "height": 345
    },
    "colab_type": "code",
    "id": "sijZoncmhAoj",
    "outputId": "0443fdd1-fa45-460a-bbb8-8fafe5ef2788"
   },
   "outputs": [],
   "source": [
    "d={\"Neighborhood\":a,\"Counts\":b}\n",
    "df_cl=pd.DataFrame(d)\n",
    "df_cl.drop([10],inplace=True)\n",
    "df_cl"
   ]
  },
  {
   "cell_type": "code",
   "execution_count": null,
   "metadata": {
    "colab": {},
    "colab_type": "code",
    "id": "yKgxYt2YhAoo"
   },
   "outputs": [],
   "source": [
    "!pip install folium\n",
    "import folium\n",
    "\n",
    "print('Folium installed and imported!')"
   ]
  },
  {
   "cell_type": "code",
   "execution_count": null,
   "metadata": {
    "colab": {
     "base_uri": "https://localhost:8080/",
     "height": 33
    },
    "colab_type": "code",
    "id": "OQ5fl_rFhAow",
    "outputId": "9b2cb3c5-bdb3-4c5f-e6f9-e2e45bbf77d1"
   },
   "outputs": [],
   "source": [
    "!wget --quiet https://cocl.us/sanfran_geojson -O sf_js.json\n",
    "print('GeoJSON file downloaded!')"
   ]
  },
  {
   "cell_type": "code",
   "execution_count": null,
   "metadata": {
    "colab": {},
    "colab_type": "code",
    "id": "q0kvKk1ohAo1"
   },
   "outputs": [],
   "source": [
    "world_geo = r'sf_js.json'\n",
    "\n",
    "# create a plain world map\n",
    "world_map = folium.Map(location=[37.77, -122.42], zoom_start=12, tiles='Mapbox Bright')"
   ]
  },
  {
   "cell_type": "code",
   "execution_count": null,
   "metadata": {
    "colab": {
     "base_uri": "https://localhost:8080/",
     "height": 813
    },
    "colab_type": "code",
    "id": "mo-lJI6DhAo_",
    "outputId": "0cc68357-7d28-4aa5-f228-9d1eb476e3ce"
   },
   "outputs": [],
   "source": [
    "# generate choropleth map using the total immigration of each country to Canada from 1980 to 2013\n",
    "world_map.choropleth(\n",
    "    geo_data=world_geo,\n",
    "    data=df_cl,\n",
    "    columns=[\"Neighborhood\",\"Counts\"],\n",
    "    key_on='feature.properties.DISTRICT',\n",
    "    fill_color='YlOrRd',\n",
    "    fill_opacity=0.7, \n",
    "    line_opacity=0.2,\n",
    "    legend_name='Incidents in SF'\n",
    ")\n",
    "\n",
    "# display map\n",
    "world_map"
   ]
  },
  {
   "cell_type": "code",
   "execution_count": null,
   "metadata": {
    "colab": {},
    "colab_type": "code",
    "id": "eNe7M_FchApH"
   },
   "outputs": [],
   "source": []
  }
 ],
 "metadata": {
  "colab": {
   "collapsed_sections": [],
   "name": "Data Visualization with Python.ipynb",
   "provenance": [],
   "version": "0.3.2"
  },
  "kernelspec": {
   "display_name": "Python 3",
   "language": "python",
   "name": "python3"
  },
  "language_info": {
   "codemirror_mode": {
    "name": "ipython",
    "version": 3
   },
   "file_extension": ".py",
   "mimetype": "text/x-python",
   "name": "python",
   "nbconvert_exporter": "python",
   "pygments_lexer": "ipython3",
   "version": "3.6.6"
  }
 },
 "nbformat": 4,
 "nbformat_minor": 1
}
